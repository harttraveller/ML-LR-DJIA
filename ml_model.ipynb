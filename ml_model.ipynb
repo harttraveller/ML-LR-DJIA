{
 "cells": [
  {
   "cell_type": "code",
   "execution_count": 16,
   "metadata": {},
   "outputs": [
    {
     "name": "stdout",
     "output_type": "stream",
     "text": [
      "              precision    recall  f1-score   support\n",
      "\n",
      "           0       0.56      0.36      0.43        56\n",
      "           1       0.60      0.77      0.68        70\n",
      "\n",
      "   micro avg       0.59      0.59      0.59       126\n",
      "   macro avg       0.58      0.56      0.55       126\n",
      "weighted avg       0.58      0.59      0.57       126\n",
      "\n",
      "0.5873015873015873\n"
     ]
    }
   ],
   "source": [
    "# Loading in the appropriate libraries\n",
    "import pandas as pd\n",
    "import numpy as np\n",
    "from sklearn.feature_extraction.text import CountVectorizer\n",
    "from sklearn.linear_model import LogisticRegression\n",
    "from sklearn.metrics import classification_report\n",
    "from sklearn.metrics import accuracy_score\n",
    "\n",
    "# loading in the data\n",
    "data = pd.read_csv('data/data.csv',encoding='ISO-8859-1')\n",
    "\n",
    "#performing train/test split on the data\n",
    "train = data[data['Date'] < '20150601']\n",
    "test = data[data['Date'] >= '20150601']\n",
    "\n",
    "# cleaning the data\n",
    "textData = train.iloc[:,2:27]\n",
    "textData.replace(to_replace=\"[^a-zA-Z]\", value=\" \", inplace=True, regex=True)\n",
    "textData.replace(to_replace=\"b \", value=\"\", inplace=True, regex=True)\n",
    "\n",
    "# renaming index\n",
    "ind = []\n",
    "for i in range(25):\n",
    "    ind.append(str(i))\n",
    "textData.columns = ind\n",
    "    \n",
    "# converting text data to lowercase\n",
    "for column in ind:\n",
    "    textData[column] = textData[column].str.lower()\n",
    "    \n",
    "# joining text data\n",
    "headlines = []\n",
    "for row in range(0,len(textData.index)):\n",
    "    headlines.append(' '.join(str(x) for x in textData.iloc[row,0:25]))\n",
    "\n",
    "# convert a collection of text documents to a matrix of token counts\n",
    "basicvectorizer = CountVectorizer(ngram_range=(2,3))\n",
    "basictrain = basicvectorizer.fit_transform(headlines)\n",
    "\n",
    "# create model instance and fit to training data\n",
    "basicmodel = LogisticRegression()\n",
    "basicmodel = basicmodel.fit(basictrain, train[\"Label\"])\n",
    "\n",
    "# format and clean test data\n",
    "testheadlines = []\n",
    "for row in range(0,len(test.index)):\n",
    "    testheadlines.append(' '.join(str(x) for x in test.iloc[row,2:27]))\n",
    "\n",
    "# run model on test data\n",
    "basictest = basicvectorizer.transform(testheadlines)\n",
    "predictions = basicmodel.predict(basictest)\n",
    "\n",
    "# print classification report and accuracy\n",
    "print (classification_report(test[\"Label\"], predictions))\n",
    "print (accuracy_score(test[\"Label\"], predictions))"
   ]
  },
  {
   "cell_type": "code",
   "execution_count": null,
   "metadata": {},
   "outputs": [],
   "source": []
  }
 ],
 "metadata": {
  "kernelspec": {
   "display_name": "Python 3",
   "language": "python",
   "name": "python3"
  },
  "language_info": {
   "codemirror_mode": {
    "name": "ipython",
    "version": 3
   },
   "file_extension": ".py",
   "mimetype": "text/x-python",
   "name": "python",
   "nbconvert_exporter": "python",
   "pygments_lexer": "ipython3",
   "version": "3.7.1"
  }
 },
 "nbformat": 4,
 "nbformat_minor": 2
}
